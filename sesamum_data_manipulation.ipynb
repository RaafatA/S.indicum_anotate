{
 "cells": [
  {
   "cell_type": "code",
   "execution_count": 59,
   "id": "f0c3db09",
   "metadata": {},
   "outputs": [],
   "source": [
    "# Importing packages\n",
    "from Bio import SeqIO\n",
    "from Bio.Seq import Seq\n",
    "import pandas as pd\n",
    "\n",
    "def get_name(record):\n",
    "    \"\"\"  Given a SeqRecord, return the accession number as a string.\n",
    "    e.g.'A0A6I9SP31.t.cds1\"\"\"\n",
    "    parts = record.id.split(\".\")\n",
    "    return parts[0]\n",
    "\n",
    "pep_dict = {seq_record.id[0]:seq_record.seq for seq_record in SeqIO.parse(\"Sesamum_indicum.S_indicum_v1.0.pep.all.fa\", \"fasta\")}\n",
    "\n",
    "print(pep_dict\n",
    "# read the fasta data as diectionary\n",
    "S_pep = SeqIO.to_dict(SeqIO.parse(\"Sesamum_indicum.S_indicum_v1.0.pep.all.fa\", \"fasta\"),key_function=get_name)\n",
    "\n",
    "# #Iterating through the reference cdna sequences \n",
    "# for seq_record in SeqIO.parse(\"Sesamum_indicum.S_indicum_v1.0.cdna.all.fa\", \"fasta\"):\n",
    "#     #translate each sequence \n",
    "#     protein= seq_record.translate()\n",
    "#     print(record_dict[protein])\n",
    "       \n",
    "\n",
    "    "
   ]
  },
  {
   "cell_type": "code",
   "execution_count": 12,
   "id": "db348b0f",
   "metadata": {},
   "outputs": [],
   "source": [
    "\n",
    "    "
   ]
  },
  {
   "cell_type": "code",
   "execution_count": 16,
   "id": "7468f5d2",
   "metadata": {},
   "outputs": [],
   "source": [
    "sesame_names_seq = SeqIO.to_dict(\n",
    "SeqIO.parse(\"Sesamum_true_format_fasta_includeIsoform_tr-.fasta\", \"fasta\"), key_function=get_name\n",
    ")\n"
   ]
  },
  {
   "cell_type": "code",
   "execution_count": 15,
   "id": "3b623390",
   "metadata": {},
   "outputs": [],
   "source": [
    "ses_xlsx_data= pd.read_csv(\"sesame_uniprot_gname_seq.csv\")\n"
   ]
  },
  {
   "cell_type": "code",
   "execution_count": 22,
   "id": "439f4c5a",
   "metadata": {},
   "outputs": [
    {
     "data": {
      "text/plain": [
       "['tr', 'A0A6I9SP31', 'A0A6I9SP31_SESIN']"
      ]
     },
     "execution_count": 22,
     "metadata": {},
     "output_type": "execute_result"
    }
   ],
   "source": []
  },
  {
   "cell_type": "code",
   "execution_count": null,
   "id": "52014136",
   "metadata": {},
   "outputs": [],
   "source": []
  },
  {
   "cell_type": "code",
   "execution_count": null,
   "id": "50ea211a",
   "metadata": {},
   "outputs": [],
   "source": []
  }
 ],
 "metadata": {
  "kernelspec": {
   "display_name": "Python 3 (ipykernel)",
   "language": "python",
   "name": "python3"
  },
  "language_info": {
   "codemirror_mode": {
    "name": "ipython",
    "version": 3
   },
   "file_extension": ".py",
   "mimetype": "text/x-python",
   "name": "python",
   "nbconvert_exporter": "python",
   "pygments_lexer": "ipython3",
   "version": "3.9.13"
  }
 },
 "nbformat": 4,
 "nbformat_minor": 5
}
